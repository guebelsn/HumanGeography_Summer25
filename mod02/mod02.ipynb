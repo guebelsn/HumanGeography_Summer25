{
 "cells": [
  {
   "cell_type": "code",
   "execution_count": null,
   "metadata": {
    "deletable": false,
    "editable": false
   },
   "outputs": [],
   "source": [
    "# Initialize Otter\n",
    "import otter\n",
    "grader = otter.Notebook(\"mod02.ipynb\")"
   ]
  },
  {
   "cell_type": "markdown",
   "metadata": {},
   "source": [
    "# Module 2: Development Geographies!\n",
    "\n",
    "The goal of this activity is to review some of the material presented as part of module 2 by considering data from the Food and Agriculture Organization (FAO) of the United Nations.\n",
    "We will look at data from different continents in order to ...\n",
    "- Answer questions about the cost and affordability of a healthy diet\n",
    "- Observe differences between the number of people who can afford a healthy diet\n",
    "- Compare the cost of a healthy diet in different locations\n",
    "- Focus in on the cost of starch staples, animal products, vegetables, fruits, etc.\n",
    "\n",
    "<img src=\"DevelopmentGeography.jpg\" alt=\"drawing\" width=\"450\" height=\"260\"/>"
   ]
  },
  {
   "cell_type": "markdown",
   "metadata": {},
   "source": [
    "To get started, just run the code cell below to import some python libraries that will be used throughout this notebook."
   ]
  },
  {
   "cell_type": "code",
   "execution_count": null,
   "metadata": {},
   "outputs": [],
   "source": [
    "# This coding cell imports some python libraries that we will be using throughout this notebook\n",
    "# Don't worry about what they are, just run this cell before running any other cells below this one\n",
    "from datascience import *\n",
    "import numpy as np\n",
    "import otter\n",
    "grader = otter.Notebook(\"mod02.ipynb\")\n",
    "\n",
    "%matplotlib inline\n",
    "import matplotlib.pyplot as plt\n",
    "plt.style.use('fivethirtyeight')\n",
    "\n",
    "from IPython.display import YouTubeVideo"
   ]
  },
  {
   "cell_type": "markdown",
   "metadata": {},
   "source": [
    "Before we look at data, it is important that we understand some key concept such as the Human Development Index (HDI). \n",
    "\n",
    "Click on the following link to review [**What the HDI measures?**](https://vimeo.com/704269232) and answer **Question 1.1** below.\n",
    "\n",
    "**Question 1.1:** Of the following, which one is NOT measured by the HDI?\n",
    "1. Education level\n",
    "2. Life expectancy\n",
    "3. Income\n",
    "4. Food security\n",
    "\n",
    "Answer in the code cell below, by setting the name (variable) `not_HDI` equal to 1, 2, 3 or 4. Then run the code cell.\n"
   ]
  },
  {
   "cell_type": "code",
   "execution_count": null,
   "metadata": {
    "tags": []
   },
   "outputs": [],
   "source": [
    "# Replace the ... with the correct number 1, 2, 3 or 4. \n",
    "not_HDI = ..."
   ]
  },
  {
   "cell_type": "code",
   "execution_count": null,
   "metadata": {
    "deletable": false,
    "editable": false
   },
   "outputs": [],
   "source": [
    "grader.check(\"q1_1\")"
   ]
  },
  {
   "cell_type": "markdown",
   "metadata": {},
   "source": [
    "# 1 Feeding the World..."
   ]
  },
  {
   "cell_type": "markdown",
   "metadata": {},
   "source": [
    "Although food insecurity is not measured using the Human Development Index (HDI), it is important to understand when we look at development geographies. \n",
    "\n",
    "Food insecurity is when someone isn't sure if they will eat regularly, and/or do not have access to a varied diet with sufficient nutrition. This can impact an individual, household, neighborhood, or entire region. Food insecurity has a significant impact on a person's health and life. It's an important factor to consider when assessing equity. Food insecurity impacts education, physical development, productivity, and reduces overall earnings. As such, it impacts the broader economy.\n",
    "\n",
    "Before we look at data and visualize, let's run the code cell below to watch a video on feeding the world.\n",
    "\n",
    "Ask yourself: How is food insecurity different in the global south versus the global north?"
   ]
  },
  {
   "cell_type": "code",
   "execution_count": null,
   "metadata": {},
   "outputs": [],
   "source": [
    "# How to feed the world video:\n",
    "# The original URL is: \n",
    "# https://youtu.be/QloMOOG-bbE\n",
    "\n",
    "YouTubeVideo(\"QloMOOG-bbE\")"
   ]
  },
  {
   "cell_type": "markdown",
   "metadata": {},
   "source": [
    "**Question 1.2:** In the video, Guzman abandons his manioc farm to work in the city. This reduction of small farmers contributes to food insecurity by creating a dependency on _________:\n",
    "\n",
    "1. urban gardens\n",
    "2. food imports \n",
    "3. aquaponics \n",
    "4. a plant based diet\n",
    "\n",
    "Answer in the code cell below, by setting the name (variable) `dependency` equal to 1, 2, 3 or 4."
   ]
  },
  {
   "cell_type": "code",
   "execution_count": null,
   "metadata": {
    "tags": []
   },
   "outputs": [],
   "source": [
    "# Replace the ... with the correct number 1, 2, 3, or 4\n",
    "dependency = ...\n"
   ]
  },
  {
   "cell_type": "code",
   "execution_count": null,
   "metadata": {
    "deletable": false,
    "editable": false
   },
   "outputs": [],
   "source": [
    "grader.check(\"q1_2\")"
   ]
  },
  {
   "cell_type": "markdown",
   "metadata": {},
   "source": [
    "### 1.1 A closer look at the cost and affordability of a healthy diet"
   ]
  },
  {
   "cell_type": "markdown",
   "metadata": {},
   "source": [
    "Now let's look at the cost and affordability of a healthy diet in different continents. \n",
    "The dataset we will explore in this section comes the [Food and Agriculture Organization (FAO) of the United Nations](https://www.fao.org/faostat/en/#data).\n",
    "We will follow the same steps as in the notebook for module 1:\n",
    "\n",
    "**STEP 1:** Gather and upload the dataset in our notebook as a table. Just run the cell below to see the tabular data we will start with. \n",
    "\n",
    "*Note:* Don't feel overwhelmed. Yes, this is a big table with lots of data. It is often hard to make sense of a large dataset. The next coding cells will help us focus in on specific data of interest in the next cells."
   ]
  },
  {
   "cell_type": "code",
   "execution_count": null,
   "metadata": {},
   "outputs": [],
   "source": [
    "CAHD_data_regions = Table.read_table('FAOSTAT_HealthyDiet_regions.csv')\n",
    "CAHD_data_regions.show()"
   ]
  },
  {
   "cell_type": "markdown",
   "metadata": {},
   "source": [
    "Let's focus in on 2 variables related to food insecurity: \n",
    "1. The % of the population unable to afford a healthy diet\n",
    "2. The cost of a healthy diet (PPP $ per person per day)\n",
    "\n",
    "Run the next code cell below to look, to reduce the tabular data and focus on these variables. The table will be more legible and should help you answer the next question."
   ]
  },
  {
   "cell_type": "code",
   "execution_count": null,
   "metadata": {},
   "outputs": [],
   "source": [
    "#This data set has a lot of information, let's focus in on some data of interest\n",
    "pop_percent_unable = CAHD_data_regions.where('Item','Percentage of the population unable to afford a healthy diet (percent)').select(\n",
    "    'Area','Year','Value').relabeled('Value','% unable to afford')\n",
    "cost_healthy = CAHD_data_regions.where('Item','Cost of a healthy diet (PPP dollar per person per day)').select(\n",
    "    'Area','Year','Value').relabeled('Value','Cost (PPP $ per person per day)')\n",
    "pop_data = pop_percent_unable.with_column('Cost (PPP $ per person per day)', cost_healthy.column(2))\n",
    "pop_data.show()"
   ]
  },
  {
   "cell_type": "markdown",
   "metadata": {},
   "source": [
    "**Question 1.3:** Which region has the lowest food insecurity? \n",
    "1. Africa\n",
    "2. North America\n",
    "3. Western Europe \n",
    "\n",
    "Answer in the code cell below, by setting the name (variable) `low_Insecurity` equal to 1, 2, 3 or 4. Then run the cell."
   ]
  },
  {
   "cell_type": "code",
   "execution_count": null,
   "metadata": {
    "tags": []
   },
   "outputs": [],
   "source": [
    "# Replace the ... with the correct number 1, 2, or 3\n",
    "low_Insecurity = ...\n"
   ]
  },
  {
   "cell_type": "code",
   "execution_count": null,
   "metadata": {
    "deletable": false,
    "editable": false
   },
   "outputs": [],
   "source": [
    "grader.check(\"q1_3\")"
   ]
  },
  {
   "cell_type": "markdown",
   "metadata": {},
   "source": [
    "\n",
    "**Question 1.4:** Where is the cost of a healthy diet the highest when looking at these 3 regions?\n",
    "1. Africa \n",
    "2. North America\n",
    "3. Western Europe\n",
    "\n",
    "Answer in the code cell below, by setting the name (variable) `high_cost` equal to 1, 2, or 3. Then run the cell.\n",
    "\n",
    "Ans: 1"
   ]
  },
  {
   "cell_type": "code",
   "execution_count": null,
   "metadata": {
    "tags": []
   },
   "outputs": [],
   "source": [
    "# Replace the ... with the correct number 1, 2, or 3\n",
    "high_cost = ...\n"
   ]
  },
  {
   "cell_type": "code",
   "execution_count": null,
   "metadata": {
    "deletable": false,
    "editable": false
   },
   "outputs": [],
   "source": [
    "grader.check(\"q1_4\")"
   ]
  },
  {
   "cell_type": "markdown",
   "metadata": {},
   "source": [
    "Now that we have the data in a tabular format, let's go to \n",
    "\n",
    "**STEP 2**: Visualize the table data by using a bar chart or a plot. This often helps determining, finding, and comparing trends.\n",
    "\n",
    "Just run the cell below. It contains plotting helper code (a helper function) that we will use to answer Question 1.5 (below)."
   ]
  },
  {
   "cell_type": "code",
   "execution_count": null,
   "metadata": {},
   "outputs": [],
   "source": [
    "def plotCountryData(tableName, countryName):\n",
    "    country_data = tableName.where('Area', countryName).drop('Area')\n",
    "    # Create a figure and a set of subplots\n",
    "    fig, (ax1, ax2) = plt.subplots(1, 2, figsize=(12, 6))\n",
    "\n",
    "    # Plot % od population unable to afford on the first subplot\n",
    "    ax1.plot(country_data.column(0), country_data.column(1), 'r-')\n",
    "    ax1.set_title('% of Population\\nunable to afford healthy diet\\n'+countryName)\n",
    "    ax1.set_xlabel('Year')\n",
    "    ax1.set_ylabel('Unable to afford (in %)')\n",
    "\n",
    "    # Plot cost of diet on the second subplot\n",
    "    ax2.plot(country_data.column(0), country_data.column(2), 'b-')\n",
    "    ax2.set_title('Cost of a healhty diet\\n per person per day\\n'+countryName)\n",
    "    ax2.set_xlabel('Year')\n",
    "    ax2.set_ylabel('PPP (in $)')\n",
    "\n",
    "    # Adjust layout\n",
    "    plt.tight_layout()\n",
    "    return countryName\n"
   ]
  },
  {
   "cell_type": "markdown",
   "metadata": {},
   "source": [
    "**Question 1.5:** In the next cell we will call the plotting function to look at the trends in the 3 different regions. To get you started, just run the code cell below, it will plot the data for Africa.\n",
    "\n",
    "Now let's add 2 more lines of code for Western Europe and Northern America:\n",
    "\n",
    "In the code cell below, replace the ... and set `plot_W_Europe` and `plot_N_America` equal to calls to the function **plotCoutryData()** using the correct region name. Use the existing line of code as an example, you can copy plotCountryData(pop_data,'Africa') and\n",
    "1. Replace **'Africa'** with **'Western Europe'** on line 2 for plot_W_Europe\n",
    "2. Replace **'Africa'** with **'Northern America'** on line 3 for plot_N_America\n"
   ]
  },
  {
   "cell_type": "code",
   "execution_count": null,
   "metadata": {
    "tags": []
   },
   "outputs": [],
   "source": [
    "plot_Africa = plotCountryData(pop_data,'Africa')\n",
    "plot_W_Europe = ...\n",
    "plot_N_America = ...\n"
   ]
  },
  {
   "cell_type": "code",
   "execution_count": null,
   "metadata": {
    "deletable": false,
    "editable": false
   },
   "outputs": [],
   "source": [
    "grader.check(\"q1_5\")"
   ]
  },
  {
   "cell_type": "markdown",
   "metadata": {},
   "source": [
    "**Question 1.6:** In your own words, describe what you see in the graphs above. Is food insecurity getting better or worse? What surprises you the most when looking at these data?"
   ]
  },
  {
   "cell_type": "markdown",
   "metadata": {},
   "source": [
    "_Type your answer here, replacing this text._"
   ]
  },
  {
   "cell_type": "markdown",
   "metadata": {
    "deletable": false,
    "editable": false
   },
   "source": [
    "<!-- END QUESTION -->\n",
    "\n",
    "### 1.2 What is expensive to eat around the world?"
   ]
  },
  {
   "cell_type": "markdown",
   "metadata": {},
   "source": [
    "Section 1.1 focused on food insecurity by looking at 2 variables. \n",
    "1. The % of the population unable to afford a healthy diet\n",
    "2. The cost of a healthy diet (PPP $ per person per day)\n",
    "\n",
    "An interesting observation was the difference in variable 2 (cost of a healthy diet) for the different regions. The original dataset includes more details on the cost of individual food groups such as vegetables, fruits, animal sources, starchy stables, etc. Let's investigate!\n",
    "\n",
    " Just run the cell below to look at this data in a table format."
   ]
  },
  {
   "cell_type": "code",
   "execution_count": null,
   "metadata": {},
   "outputs": [],
   "source": [
    "# Looking at what costs more in each region in 2017\n",
    "pop_starch = CAHD_data_regions.where('Item','Cost of starchy staples').select('Area','Value').relabeled('Value', 'Cost Starch staples') \n",
    "pop_animalsource = CAHD_data_regions.where('Item','Cost of animal source foods').select('Area','Value').relabeled('Value', 'Cost Animal Source') \n",
    "pop_leg_nuts_seeds = CAHD_data_regions.where('Item','Cost of legumes, nuts and seeds').select('Area','Value').relabeled('Value', 'Cost legumes/nuts/seeds')\n",
    "pop_vegetables = CAHD_data_regions.where('Item','Cost of vegetables').select('Area','Value').relabeled('Value', 'Cost vegetables') \n",
    "pop_fruits = CAHD_data_regions.where('Item','Cost of fruits').select('Area','Value').relabeled('Value', 'Cost fruits')\n",
    "pop_oils = CAHD_data_regions.where('Item','Cost of oils and fats').select('Area','Value').relabeled('Value', 'Cost of oils and fats')\n",
    "pop_cost_foods = pop_starch.join('Area', pop_animalsource,'Area').join('Area', pop_leg_nuts_seeds, 'Area').join('Area', pop_vegetables, 'Area').join('Area', pop_fruits, 'Area').join('Area', pop_oils, 'Area')\n",
    "pop_cost_foods\n"
   ]
  },
  {
   "cell_type": "markdown",
   "metadata": {},
   "source": [
    "Now that we have the data in a tabular format, it may be nice to visualize the table data.\n",
    "\n",
    "In this case a bar chart will help the most. Just run the cell below and answer Question 1.7."
   ]
  },
  {
   "cell_type": "code",
   "execution_count": null,
   "metadata": {},
   "outputs": [],
   "source": [
    "# Using a bar chart\n",
    "pop_cost_foods.barh('Area')\n",
    "pop_title = plt.title('Cost in $ - 2017')"
   ]
  },
  {
   "cell_type": "markdown",
   "metadata": {},
   "source": [
    "**Question 1.7:** Where is the cost of vegetables the highest? Why do you think the cost of vegetables is high in that place?"
   ]
  },
  {
   "cell_type": "markdown",
   "metadata": {},
   "source": [
    "_Type your answer here, replacing this text._"
   ]
  },
  {
   "cell_type": "markdown",
   "metadata": {
    "deletable": false,
    "editable": false
   },
   "source": [
    "<!-- END QUESTION -->\n",
    "\n",
    "**CONGRATULATIONS!** You just finished the jupyter notebook assignment for module 2! \n",
    "\n",
    "Be sure to...\n",
    "\n",
    "- run all of the tests and verify that they all pass, \n",
    "- check your answers for the open response questions,\n",
    "- choose **Download as PDF** from the **File** menu,\n",
    "- submit the .pdf file on **canvas**."
   ]
  }
 ],
 "metadata": {
  "anaconda-cloud": {},
  "kernelspec": {
   "display_name": "Python 3 (ipykernel)",
   "language": "python",
   "name": "python3"
  },
  "language_info": {
   "codemirror_mode": {
    "name": "ipython",
    "version": 3
   },
   "file_extension": ".py",
   "mimetype": "text/x-python",
   "name": "python",
   "nbconvert_exporter": "python",
   "pygments_lexer": "ipython3",
   "version": "3.9.7"
  },
  "otter": {
   "OK_FORMAT": true,
   "tests": {
    "q1_1": {
     "name": "q1_1",
     "points": null,
     "suites": [
      {
       "cases": [
        {
         "code": ">>> not_HDI == 4\nTrue",
         "hidden": false,
         "locked": false
        }
       ],
       "scored": true,
       "setup": "",
       "teardown": "",
       "type": "doctest"
      }
     ]
    },
    "q1_2": {
     "name": "q1_2",
     "points": null,
     "suites": [
      {
       "cases": [
        {
         "code": ">>> dependency == 2\nTrue",
         "hidden": false,
         "locked": false
        }
       ],
       "scored": true,
       "setup": "",
       "teardown": "",
       "type": "doctest"
      }
     ]
    },
    "q1_3": {
     "name": "q1_3",
     "points": null,
     "suites": [
      {
       "cases": [
        {
         "code": ">>> low_Insecurity\n3",
         "hidden": false,
         "locked": false
        }
       ],
       "scored": true,
       "setup": "",
       "teardown": "",
       "type": "doctest"
      }
     ]
    },
    "q1_4": {
     "name": "q1_4",
     "points": null,
     "suites": [
      {
       "cases": [
        {
         "code": ">>> high_cost == 1\nTrue",
         "hidden": false,
         "locked": false
        }
       ],
       "scored": true,
       "setup": "",
       "teardown": "",
       "type": "doctest"
      }
     ]
    },
    "q1_5": {
     "name": "q1_5",
     "points": null,
     "suites": [
      {
       "cases": [
        {
         "code": ">>> plot_Africa == 'Africa'\nTrue",
         "hidden": false,
         "locked": false
        },
        {
         "code": ">>> plot_W_Europe == 'Western Europe'\nTrue",
         "hidden": false,
         "locked": false
        },
        {
         "code": ">>> plot_N_America == 'Northern America'\nTrue",
         "hidden": false,
         "locked": false
        }
       ],
       "scored": true,
       "setup": "",
       "teardown": "",
       "type": "doctest"
      }
     ]
    }
   }
  }
 },
 "nbformat": 4,
 "nbformat_minor": 2
}
