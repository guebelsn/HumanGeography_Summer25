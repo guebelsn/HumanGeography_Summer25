{
 "cells": [
  {
   "cell_type": "code",
   "execution_count": null,
   "metadata": {
    "deletable": false,
    "editable": false
   },
   "outputs": [],
   "source": [
    "# Initialize Otter\n",
    "import otter\n",
    "grader = otter.Notebook(\"mod03.ipynb\")"
   ]
  },
  {
   "cell_type": "code",
   "execution_count": null,
   "metadata": {},
   "outputs": [],
   "source": [
    "# This coding cell imports some python libraries that we will be using throughout this notebook\n",
    "# Don't worry about what they are, just run this cell before running any other cells below this one\n",
    "from datascience import *\n",
    "import numpy as np\n",
    "#import otter\n",
    "#grader = otter.Notebook(\"mod01.ipynb\")\n",
    "\n",
    "%matplotlib inline\n",
    "import matplotlib.pyplot as plt\n",
    "plt.style.use('fivethirtyeight')\n",
    "\n",
    "from IPython.display import YouTubeVideo"
   ]
  },
  {
   "cell_type": "markdown",
   "metadata": {},
   "source": [
    "# Module 3: Globalization & Agriculture\n",
    "\n",
    "This activity’s goal is to review some of the material presented in the videos and lectures of module 3. In this section, we will be looking at data from the Food and Agriculture Organization (FAO) of the United Nations. Food globalization isn't new, as long as people have been cooking, they’ve searched for exciting ingredients. As a result of trade agreements, and the industrialization of food production, the availability of food is now more impacted by economy than what you can grow in your region. According to the US food and drug administration, 55% of fruits and vegetables are produced abroad. Meaning, if our relationship with China goes south, our access to apples will be cut off (90% of apples consumed in the US are grown in China).\n",
    "\n",
    "In this activity we want to consider how globalization has impacted availability of agricultural products, and how this bounty may increase food insecurity in some regions based on trade relationships."
   ]
  },
  {
   "cell_type": "markdown",
   "metadata": {},
   "source": [
    "<img src=\"cornFields.jpg\" alt=\"drawing\" width=\"350\" height=\"250\"/>\n",
    "\n",
    "## 1. A Closer look at Corn (Maize): History\n",
    "Before we dive into the data. Let's learn a little more about the history of corn.\n",
    "Run the coding cell below and watch the TEDed talk!\n"
   ]
  },
  {
   "cell_type": "code",
   "execution_count": null,
   "metadata": {},
   "outputs": [],
   "source": [
    "# The original URL is: \n",
    "# https://youtu.be/i6teBcfKpik\n",
    "\n",
    "YouTubeVideo(\"i6teBcfKpik\")"
   ]
  },
  {
   "cell_type": "markdown",
   "metadata": {},
   "source": [
    "**Question 1:**\n",
    "After restrictions on corn production were removed by Nixon in the 1970s, the US corn yield exploded leading to corn used for thickening agents, sweeteners, and animal feed. This allowed for ___________: \n",
    "1. inexpensive meat production \n",
    "2. increased vegetarian diets \n",
    "3. midscale organic production to grow \n",
    "4. all of these are correct\n",
    "\n",
    "In the next coding cell, set the variable `after_restrictions` equal to the correct answer/number (1, 2, 3, or 4)."
   ]
  },
  {
   "cell_type": "code",
   "execution_count": null,
   "metadata": {
    "tags": []
   },
   "outputs": [],
   "source": [
    "# Set the variable after_restrictions equal to 1, 2, 3, or 4\n",
    "after_restrictions = ..."
   ]
  },
  {
   "cell_type": "code",
   "execution_count": null,
   "metadata": {
    "deletable": false,
    "editable": false
   },
   "outputs": [],
   "source": [
    "grader.check(\"q1\")"
   ]
  },
  {
   "cell_type": "markdown",
   "metadata": {},
   "source": [
    "## 2. Corn Production around the world\n",
    "<img src=\"corn.jpg\" alt=\"drawing\" width=\"350\" height=\"250\"/>\n",
    "\n",
    "Now that we learned a bit more about the history of corn, let's have a look at some data. In this section, we will focus on the global production of corn from 1961 to 2020. The dataset we will explore comes from the Food and Agriculture Organization of the United Nations https://www.fao.org/faostat/en/#data.\n",
    "\n",
    "Just run the code cell below to:\n",
    "- **STEP 1:** Upload the dataset in our notebook as a table.\n",
    "- **STEP 2**: Create a plot to visualize the table data.\n"
   ]
  },
  {
   "cell_type": "code",
   "execution_count": null,
   "metadata": {},
   "outputs": [],
   "source": [
    "# Complete data\n",
    "corn_Production = Table.read_table('FAOSTAT_maizeProduction_World_Americas.csv')\n",
    "corn_Production.show(3)\n",
    "# World\n",
    "corn_Production_World = corn_Production.where('Area', 'World').where('Element','Production')\n",
    "corn_Production_World.plot('Year', 'Value')\n",
    "corn_prodTitle = plt.title('World Corn Production over time\\n in tons')\n"
   ]
  },
  {
   "cell_type": "markdown",
   "metadata": {},
   "source": [
    "**Question 2:** What are your observations on how has the production of corn changed over time?"
   ]
  },
  {
   "cell_type": "markdown",
   "metadata": {},
   "source": [
    "_Type your answer here, replacing this text._"
   ]
  },
  {
   "cell_type": "markdown",
   "metadata": {
    "deletable": false,
    "editable": false
   },
   "source": [
    "<!-- END QUESTION -->\n",
    "\n",
    "## 3. Corn Export - USA versus Mexico\n",
    "Let's narrow in and compare data from 2 countries: USA and Mexico.\n",
    "Do both countries see similar trends over time? Let's look at the export of corn for both."
   ]
  },
  {
   "cell_type": "code",
   "execution_count": null,
   "metadata": {},
   "outputs": [],
   "source": [
    "# Corn export quantity and value in the USA\n",
    "# Data from https://www.fao.org/faostat/en/#data/TCL\n",
    "# Trade>Crops & Livestoc products/USA/Export quantity/value\n",
    "corn_export_World= Table.read_table('FAOSTAT_Maize_Export_World.csv')\n",
    "\n",
    "def plotCornExport(myTable, countryName):\n",
    "    corn_export_country = myTable.where('Area',countryName)\n",
    "    corn_export_quantity = corn_export_country.where('Element','Export Quantity').select('Year', 'Value').relabeled('Value','Maize Export Quantity in tons')\n",
    "    corn_export_value = corn_export_country.where('Element','Export Value').select('Year', 'Value').relabeled('Value','Maize Export Value in 1000 US$')\n",
    "    corn_export = corn_export_quantity.join('Year', corn_export_value, 'Year')\n",
    "    #corn_export_value.plot('Year')\n",
    "    corn_export.plot('Year')\n",
    "\n",
    "    plt.title('Maize Export\\n'+ countryName)\n",
    "\n",
    "plotCornExport(corn_export_World, 'United States of America')\n",
    "plotCornExport(corn_export_World, 'Mexico')\n"
   ]
  },
  {
   "cell_type": "markdown",
   "metadata": {},
   "source": [
    "**Question 3:** Is there a specific year(s) that pops out when looking at the visualizations above? How does this correspond to the TEDed Talk on the history of corn? Do we see the same thing when looking at both countries?"
   ]
  },
  {
   "cell_type": "markdown",
   "metadata": {},
   "source": [
    "_Type your answer here, replacing this text._"
   ]
  },
  {
   "cell_type": "markdown",
   "metadata": {
    "deletable": false,
    "editable": false
   },
   "source": [
    "<!-- END QUESTION -->\n",
    "\n",
    "## 4. Corn uses - USA versus Mexico\n",
    "When you think about corn and how we use it, what do you think about? \n",
    "\n",
    "Maybe you think of something yummie like this:  <img src=\"elote.jpg\" alt=\"drawing\" width=\"100\" height=\"90\"/>  But is corn mostly used to feed the human population?\n",
    "\n",
    "Before we get hungry, let's take a look at some data...\n",
    "\n",
    "- **STEP 1:** Gather and load the data in tabular format\n",
    "- **STEP 2:** Visualize...\n",
    "\n",
    "Just run the cell below and have a look at some data. The data was collected and made available by the FAO (Food and Agriculture Organization of the United Nations)"
   ]
  },
  {
   "cell_type": "code",
   "execution_count": null,
   "metadata": {},
   "outputs": [],
   "source": [
    "# Corn uses 2010 - now\n",
    "# Data from https://www.fao.org/faostat/en/#data/TCL\n",
    "# Food Balances>Food Balances(2010-)/USA/Food vs Feed vs Processed vs Exported vs Other uses\n",
    "corn_uses = Table.read_table('FAOSTAT_Maize&Products_FoodBalances.csv')\n",
    "#corn_uses.show(3)\n",
    "\n",
    "def plotCornUses(myTable, countryName):\n",
    "    corn_uses_country = myTable.where('Area', countryName).select('Year','Element','Value')\n",
    "    corn_uses_food= corn_uses_country.where('Element','Food').select('Year', 'Value').relabeled('Value','Food')\n",
    "    corn_uses_feed= corn_uses_country.where('Element','Feed').select('Year', 'Value').relabeled('Value','Feed')\n",
    "    corn_uses_processing= corn_uses_country.where('Element','Processing').select('Year', 'Value').relabeled('Value','Processing')\n",
    "    corn_uses_other= corn_uses_country.where('Element','Other uses (non-food)').select('Year', 'Value').relabeled('Value','Other uses (non-food)')\n",
    "    corn_uses_country = corn_uses_food.join('Year', corn_uses_feed, 'Year').join(\n",
    "        'Year', corn_uses_processing, 'Year').join('Year', corn_uses_other, 'Year')\n",
    "    corn_uses_country.plot('Year')\n",
    "    plt.title(\"Corn Use\\n\"+countryName)\n",
    "\n",
    "plotCornUses(corn_uses, 'Mexico')\n",
    "plotCornUses(corn_uses, 'United States of America')\n",
    "\n"
   ]
  },
  {
   "cell_type": "markdown",
   "metadata": {},
   "source": [
    "**Question 4:** Now that we see some data. What is corn (Maize) mostly used for in the USA? In the next coding cell, set the variable `corn_use` equal to the number 1, 2, 3 or 4 according to the following:\n",
    "1. Food\n",
    "2. Feed\n",
    "3. Processing\n",
    "4. Other uses (non-food)"
   ]
  },
  {
   "cell_type": "code",
   "execution_count": null,
   "metadata": {
    "tags": []
   },
   "outputs": [],
   "source": [
    "corn_use = ..."
   ]
  },
  {
   "cell_type": "code",
   "execution_count": null,
   "metadata": {
    "deletable": false,
    "editable": false
   },
   "outputs": [],
   "source": [
    "grader.check(\"q4\")"
   ]
  },
  {
   "cell_type": "markdown",
   "metadata": {},
   "source": [
    "Now that corn is integrated into the global economy it’s difficult to see a way to disentangle it from global food production. As seen in the video on corn, products from maize have links to obesity, climate change, water scarcity and more. \n",
    "\n",
    "**Question 5:** What is a possible solution to our reliance on corn?\n",
    "Think of a way we can minimize the impact of corn production and/or ween ourselves off maize."
   ]
  },
  {
   "cell_type": "markdown",
   "metadata": {},
   "source": [
    "_Type your answer here, replacing this text._"
   ]
  },
  {
   "cell_type": "markdown",
   "metadata": {
    "deletable": false,
    "editable": false
   },
   "source": [
    "<!-- END QUESTION -->\n",
    "\n",
    "**CONGRATULATIONS!** You just finished the jupyter notebook assignment for module 3! \n",
    "Be sure to...\n",
    "\n",
    "- run all of the tests and verify that they all pass, \n",
    "- check your answers for the open response questions,\n",
    "- choose **Download as PDF** from the **File** menu,\n",
    "- submit the .pdf file on **canvas**."
   ]
  }
 ],
 "metadata": {
  "anaconda-cloud": {},
  "kernelspec": {
   "display_name": "Python 3 (ipykernel)",
   "language": "python",
   "name": "python3"
  },
  "language_info": {
   "codemirror_mode": {
    "name": "ipython",
    "version": 3
   },
   "file_extension": ".py",
   "mimetype": "text/x-python",
   "name": "python",
   "nbconvert_exporter": "python",
   "pygments_lexer": "ipython3",
   "version": "3.9.7"
  },
  "otter": {
   "OK_FORMAT": true,
   "tests": {
    "q1": {
     "name": "q1",
     "points": null,
     "suites": [
      {
       "cases": [
        {
         "code": ">>> type(after_restrictions) == int\nTrue",
         "hidden": false,
         "locked": false
        },
        {
         "code": ">>> after_restrictions == 1\nTrue",
         "hidden": false,
         "locked": false
        }
       ],
       "scored": true,
       "setup": "",
       "teardown": "",
       "type": "doctest"
      }
     ]
    },
    "q4": {
     "name": "q4",
     "points": null,
     "suites": [
      {
       "cases": [
        {
         "code": ">>> type(corn_use) == int\nTrue",
         "hidden": false,
         "locked": false
        },
        {
         "code": ">>> corn_use == 2\nTrue",
         "hidden": false,
         "locked": false
        }
       ],
       "scored": true,
       "setup": "",
       "teardown": "",
       "type": "doctest"
      }
     ]
    }
   }
  }
 },
 "nbformat": 4,
 "nbformat_minor": 2
}
