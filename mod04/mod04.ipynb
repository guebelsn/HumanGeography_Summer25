{
 "cells": [
  {
   "cell_type": "code",
   "execution_count": null,
   "metadata": {
    "deletable": false,
    "editable": false
   },
   "outputs": [],
   "source": [
    "# Initialize Otter\n",
    "import otter\n",
    "grader = otter.Notebook(\"mod04.ipynb\")"
   ]
  },
  {
   "cell_type": "code",
   "execution_count": null,
   "metadata": {},
   "outputs": [],
   "source": [
    "# This coding cell imports some python libraries that we will be using throughout this notebook\n",
    "# Don't worry about what they are, just run this cell before running any other cells below this one\n",
    "from datascience import *\n",
    "import numpy as np\n",
    "#import otter\n",
    "#grader = otter.Notebook(\"mod01.ipynb\")\n",
    "\n",
    "%matplotlib inline\n",
    "import matplotlib.pyplot as plt\n",
    "plt.style.use('fivethirtyeight')\n",
    "\n",
    "from IPython.display import YouTubeVideo\n",
    "from ipywidgets import interact, interactive, fixed, interact_manual"
   ]
  },
  {
   "cell_type": "markdown",
   "metadata": {},
   "source": [
    "# Module 4: Population\n",
    "\n",
    "<img src=\"PopulationDensity.jpg\" alt=\"drawing\" width=\"400\" height=\"200\"/>\n",
    "\n",
    "Population growth is more complicated than simple numbers. While tt may be easy to look at a country with a high birth rate and think \"large population\", this usually the case. \n",
    "\n",
    "For example, the two most populated countries in the world, China and India, have a birth rate of 1.1 and 2.03 respectively. We also tend to look at high birth rates and large populations and think: numbers tell all. In reality, the consumption rate of Americans is 36 times more than Indians. So, numbers don't tell us the entire story.\n",
    "\n",
    "Let's investigate and compare the population growth and its causes in different countries. \n",
    "We'll look at:\n",
    "- total world population over time\n",
    "- we will select a couple of countries of interest and look at their total population over time\n",
    "- Does this tell us anything about birth rates and death rates? The age of the population?\n",
    "- a better statistical view is a population pyramid: population by age\n",
    "\n",
    "\n",
    "## 1. World Population Over Time\n",
    "\n",
    "Yes, the world population is increasing, but how much? Let's look at the data (from https://www.fao.org/faostat/en/#data)\n",
    "\n",
    "\n",
    "Just run the code cell below to:\n",
    "- **STEP 1:** Upload the dataset in our notebook as a table.\n",
    "- **STEP 2**: Create a plot to visualize the table data."
   ]
  },
  {
   "cell_type": "code",
   "execution_count": null,
   "metadata": {},
   "outputs": [],
   "source": [
    "# Let's first look at the total world population by gender\n",
    "world_POP = Table.read_table('FAOSTAT_data_worldTotalPOP.csv')\n",
    "world_POP.show(3)\n",
    "def plot_countryPOP_overTime(POP_table, countryName):\n",
    "    POP = POP_table.where('Area',countryName)\n",
    "    POP = POP.with_column('Value', POP.column('Value')*1000) # Adjust units\n",
    "    POP_all= POP.where('Element', \"Total Population - Both sexes\").select('Year', 'Value').relabeled('Value','Total')\n",
    "    POP_all_F = POP.where('Element', \"Total Population - Female\").select('Year', 'Value').relabeled('Value','Female')\n",
    "    POP_all_M = POP.where('Element', \"Total Population - Male\").select('Year', 'Value').relabeled('Value','Male')\n",
    "    combined = POP_all.join('Year', POP_all_F, 'Year').join('Year', POP_all_M, 'Year')\n",
    "    combined.plot('Year')\n",
    "    plt.title('Population\\n'+countryName)\n",
    "    return countryName\n",
    "plot_countryPOP_overTime(world_POP,'World')\n"
   ]
  },
  {
   "cell_type": "markdown",
   "metadata": {},
   "source": [
    "**Question 1:** What is the estimated world population today? In the next coding cell, set the variable `worldPOP` equal to the number 1, 2, 3 or 4 accordingly:\n",
    "1. The estimated world population is close to 4 million\n",
    "2. The estimated world population is close to 4 billion\n",
    "3. The estimated world population is close to 8 million\n",
    "4. The estimated world population is close to 8 billion"
   ]
  },
  {
   "cell_type": "code",
   "execution_count": null,
   "metadata": {
    "tags": []
   },
   "outputs": [],
   "source": [
    "# Replace the ... with 1, 2, 3 or 4\n",
    "world_POP = ..."
   ]
  },
  {
   "cell_type": "code",
   "execution_count": null,
   "metadata": {
    "deletable": false,
    "editable": false
   },
   "outputs": [],
   "source": [
    "grader.check(\"q1\")"
   ]
  },
  {
   "cell_type": "markdown",
   "metadata": {},
   "source": [
    "## 2. Comparing population growth in different countries\n",
    "Let's have a look at the differences in population growth trends. \n",
    "Just run the cell below to visualize the data for the USA. Is the growth trend similar?\n"
   ]
  },
  {
   "cell_type": "code",
   "execution_count": null,
   "metadata": {},
   "outputs": [],
   "source": [
    "world_POP_countries = Table.read_table('FAOSTAT_data_POP_Complete.csv')\n",
    "# Let's focus in on the population in the United States of America.\n",
    "plot_countryPOP_overTime(world_POP_countries, 'United States of America')\n"
   ]
  },
  {
   "cell_type": "markdown",
   "metadata": {},
   "source": [
    "**Question 2.1:** Does the population growth in the USA follow the same trend as the world? Describe your observations of the graphs above."
   ]
  },
  {
   "cell_type": "markdown",
   "metadata": {},
   "source": [
    "_Type your answer here, replacing this text._"
   ]
  },
  {
   "cell_type": "markdown",
   "metadata": {
    "deletable": false,
    "editable": false
   },
   "source": [
    "<!-- END QUESTION -->\n",
    "\n",
    "Now, let's look at a different country!\n",
    "\n",
    "**Question 2.2:** In the coding cell below, change the variable `new_country_Name` to equal a different country (put the name in quotes as it should be a string type). Pick a country from this list:\n",
    "- China\n",
    "- India\n",
    "- Saudi Arabia\n",
    "- Nigeria"
   ]
  },
  {
   "cell_type": "code",
   "execution_count": null,
   "metadata": {
    "tags": []
   },
   "outputs": [],
   "source": [
    "# change the ... to a country name. Make sure to write the name in quotes, just like the example above\n",
    "new_country_Name = ...\n",
    "country = plot_countryPOP_overTime(world_POP_countries, new_country_Name)"
   ]
  },
  {
   "cell_type": "code",
   "execution_count": null,
   "metadata": {
    "deletable": false,
    "editable": false
   },
   "outputs": [],
   "source": [
    "grader.check(\"q2_2\")"
   ]
  },
  {
   "cell_type": "markdown",
   "metadata": {},
   "source": [
    "**Question 2.3:** \n",
    "How does the population change over time in this country compared to the population in the USA? Is there a difference between the male and female population growth? Why do you think this is? Refer to what was discussed in lecture."
   ]
  },
  {
   "cell_type": "markdown",
   "metadata": {},
   "source": [
    "_Type your answer here, replacing this text._"
   ]
  },
  {
   "cell_type": "markdown",
   "metadata": {
    "deletable": false,
    "editable": false
   },
   "source": [
    "<!-- END QUESTION -->\n",
    "\n",
    "## 3. The Population Pyramid: a better way to investigate\n",
    "\n",
    "Although the above plots give us an idea of which country's population is still growing the most, it does not tell us information on why we see differences between the different countries. Is it the birth rate, the death rate? Something else?\n",
    "This is where a population pyramid can tell us more.\n",
    "Run the coding cell below to learn more about population pyramids."
   ]
  },
  {
   "cell_type": "code",
   "execution_count": null,
   "metadata": {},
   "outputs": [],
   "source": [
    "# The original URL is: \n",
    "# https://youtu.be/RLmKfXwWQtE\n",
    "\n",
    "YouTubeVideo(\"RLmKfXwWQtE\")"
   ]
  },
  {
   "cell_type": "markdown",
   "metadata": {},
   "source": [
    "Data below from census data recorded on the International Database (IDB): https://www.census.gov/data-tools/demo/idb/#/pop?COUNTRY_YEAR=2024&COUNTRY_YR_ANIM=2024&menu=popViz&POP_YEARS=2024&popPages=BYAGE\n",
    "\n",
    "The IDB includes population estimates and projections for 227 countries and equivalent areas, plus 15,237 subnational areas.\n",
    "Just run the cell below to:\n",
    "- **STEP 1:** Upload the dataset in our notebook as a table.\n",
    "- **STEP 2**: Create a population pyramid to visualize the data of the USA.\n"
   ]
  },
  {
   "cell_type": "code",
   "execution_count": null,
   "metadata": {},
   "outputs": [],
   "source": [
    "# This table includes population estimates for 2024 and was downloaded on 4/3/2024\n",
    "Int_Census_POP_2024 = Table.read_table('IDB_04-03-2024.csv')\n",
    "Int_Census_POP_2024.show(2)\n",
    "# Generic function to display statistics and population pyramid for 1 country\n",
    "\n",
    "def populationPyramid(countryName):\n",
    "    '''countryName is the name of a country of interest, data type is string\n",
    "        POP_data is the .csv file containing the data, data type is a string, note that the .csv file needs to be in the right format\n",
    "        year is the year of interest, make sure it matches the year in the table\n",
    "    '''\n",
    "    Int_Census_POP = Int_Census_POP_2024\n",
    "    year = 2024\n",
    "    POP_by_age = Int_Census_POP.where('Country/Area Name', countryName)\n",
    "    print(countryName+ ' Statistics:')\n",
    "    print('Total Population in million = ' + str(POP_by_age.row(0).item(4)/1000000))\n",
    "    print('Total Male Population in million = ' + str(POP_by_age.row(0).item(6)/1000000))\n",
    "    print('Female Population in million = ' + str(POP_by_age.row(0).item(8)/1000000))\n",
    "    POP_by_age = POP_by_age.take(range(1, POP_by_age.num_rows)) # Take of total\n",
    "    \n",
    "    # Create figure and axes\n",
    "    fig, ax = plt.subplots()\n",
    "    age_groups = POP_by_age.column('GROUP')\n",
    "\n",
    "    # Plot male population\n",
    "    ax.barh(age_groups, POP_by_age.column('Male Population'), color='blue', label='Male')\n",
    "\n",
    "    # Plot female population with negative values to make it left-aligned\n",
    "    ax.barh(age_groups, [-x for x in POP_by_age.column('Female Population')], color='purple', label='Female')\n",
    "\n",
    "    # Set labels and title\n",
    "    ax.set_xlabel('Population')\n",
    "    ax.set_ylabel('Age Group')\n",
    "    ax.set_title('Population Pyramid '+ countryName + ' ' + str(year))\n",
    "    ax.legend()\n",
    "\n",
    "    # Show plot\n",
    "    plt.show()  \n",
    "\n",
    "# Let's look at the US\n",
    "populationPyramid('United States')\n"
   ]
  },
  {
   "cell_type": "markdown",
   "metadata": {},
   "source": [
    "Time to compare population pyramids around the world!\n",
    "\n",
    "Run the code cell below, this will create an `interactive` population pyramid! \n",
    "\n",
    "Now you can pick a country name by selecting from the `dropdown menu`.\n",
    "In section 1, you investigated the difference between the USA and 1 other country. Now it is time to compare the population pyramids for both. (Note: make sure you pick the sam country as you picked in Question ...). Observe and answer **Question 3.1**."
   ]
  },
  {
   "cell_type": "code",
   "execution_count": null,
   "metadata": {},
   "outputs": [],
   "source": [
    "# interact also allows you to pass in an array for a function argument. It will\n",
    "# then present a dropdown menu of options.\n",
    "uniqueCountryList = list(set(Int_Census_POP_2024.column('Country/Area Name')))\n",
    "uniqueCountryList.sort()\n",
    "_ = interact(populationPyramid, countryName = uniqueCountryList)\n"
   ]
  },
  {
   "cell_type": "markdown",
   "metadata": {},
   "source": [
    "**Question 3.1:**  Describe your observation for both countries. Are the population pyramids similar/different? How?\n"
   ]
  },
  {
   "cell_type": "markdown",
   "metadata": {},
   "source": [
    "_Type your answer here, replacing this text._"
   ]
  },
  {
   "cell_type": "markdown",
   "metadata": {
    "deletable": false,
    "editable": false
   },
   "source": [
    "<!-- END QUESTION -->\n",
    "\n",
    "**Question 3.2:** Let's look at a couple of other countries using the interactive/dropdown coding cell above! Pick 2 countries in the **Global North** and 2 in the **Global South**. Describe the similarities and differences in population pyramids. \n",
    "\n",
    "Use the images below as a reference to describe the transition stage for each country.\n",
    "\n",
    "<img src=\"DemographicTransitionModel.png\" alt=\"drawing\" width=\"360\" height=\"200\"/>\n",
    "\n",
    "<img src=\"DemographicTransitionModel2.jpg\" alt=\"drawing\" width=\"300\" height=\"200\"/>"
   ]
  },
  {
   "cell_type": "markdown",
   "metadata": {},
   "source": [
    "_Type your answer here, replacing this text._"
   ]
  },
  {
   "cell_type": "markdown",
   "metadata": {
    "deletable": false,
    "editable": false
   },
   "source": [
    "<!-- END QUESTION -->\n",
    "\n",
    "**CONGRATULATIONS!** You just finished the jupyter notebook assignment for module 4! \n",
    "Be sure to...\n",
    "\n",
    "- run all of the tests and verify that they all pass, \n",
    "- choose **Download as PDF** from the **File** menu\n",
    "- submit the .pdf file on **canvas**."
   ]
  }
 ],
 "metadata": {
  "anaconda-cloud": {},
  "kernelspec": {
   "display_name": "Python 3 (ipykernel)",
   "language": "python",
   "name": "python3"
  },
  "language_info": {
   "codemirror_mode": {
    "name": "ipython",
    "version": 3
   },
   "file_extension": ".py",
   "mimetype": "text/x-python",
   "name": "python",
   "nbconvert_exporter": "python",
   "pygments_lexer": "ipython3",
   "version": "3.9.7"
  },
  "otter": {
   "OK_FORMAT": true,
   "tests": {
    "q1": {
     "name": "q1",
     "points": null,
     "suites": [
      {
       "cases": [
        {
         "code": ">>> world_POP == 4\nTrue",
         "hidden": false,
         "locked": false
        }
       ],
       "scored": true,
       "setup": "",
       "teardown": "",
       "type": "doctest"
      }
     ]
    },
    "q2_2": {
     "name": "q2_2",
     "points": null,
     "suites": [
      {
       "cases": [
        {
         "code": ">>> type(new_country_Name) == str\nTrue",
         "hidden": false,
         "locked": false
        },
        {
         "code": ">>> country in ['China', 'India', 'Saudi Arabia', 'Nigeria']\nTrue",
         "hidden": false,
         "locked": false
        }
       ],
       "scored": true,
       "setup": "",
       "teardown": "",
       "type": "doctest"
      }
     ]
    }
   }
  }
 },
 "nbformat": 4,
 "nbformat_minor": 2
}
