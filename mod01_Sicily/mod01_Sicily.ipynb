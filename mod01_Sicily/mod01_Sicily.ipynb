{
 "cells": [
  {
   "cell_type": "code",
   "execution_count": null,
   "metadata": {
    "deletable": false,
    "editable": false
   },
   "outputs": [],
   "source": [
    "# Initialize Otter\n",
    "import otter\n",
    "grader = otter.Notebook(\"mod01_Sicily.ipynb\")"
   ]
  },
  {
   "cell_type": "markdown",
   "metadata": {},
   "source": [
    "# Module 1: Intro to Human Geography!\n",
    "\n",
    "### Welcome to `GEOG 102`\n",
    "\n",
    "In this interactive notebook, we will work as geographic data scientists. A data scientist looks at data, asks questions, synthesizes and analyzes hypothesis', and makes predictions. The first step in this quest is to look at collected data, visualize the data, and observe. This will (hopefully) bring up all kinds of questions.\n",
    "\n",
    "The goal of this activity is to review some of the course material from module 1 by:\n",
    "- Importing data collected by the World Trade Organization (WTO)\n",
    "- Focusing in on data of interest by looking at it in a tabular format\n",
    "- Visualizing the data using graphs and maps\n",
    "- Observing, ask questions, and learn from the data\n",
    "\n",
    "We will ...\n",
    "- Introduce jupyter notebooks as an interactive learning platform\n",
    "- Review some concepts and terminology around maps\n",
    "- Compare 2 countries (Italy and Congo), their location, history & uneven economic regional growth\n",
    "\n"
   ]
  },
  {
   "cell_type": "markdown",
   "metadata": {},
   "source": [
    "# 1. What is a Jupyter notebook?\n",
    "This webpage is called a Jupyter notebook. A notebook is a place to write code and view their results, and also to write text.\n",
    "In a notebook, each rectangle containing text or code is called a *cell*.\n",
    "\n",
    "**Text cells** (like this one) can be edited by double-clicking on them. They're written in a simple format called [Markdown](http://daringfireball.net/projects/markdown/syntax) to add formatting and section headings.\n",
    "After you edit a text cell, click the \"run cell\" button at the top that looks like ▶| or hold down `shift` + `return` to confirm any changes. \n",
    "\n",
    "**Code cells** contain code in the Python 3 language. Running a code cell will execute all of the code it contains.\n",
    "To run the code in a code cell, first click on that cell to activate it.  It'll be highlighted with a little green or blue rectangle.  Next, either press ▶| or hold down `shift` + `return`."
   ]
  },
  {
   "cell_type": "markdown",
   "metadata": {},
   "source": [
    "**Activity 1:** This is a text cell. It is the cell type where we can type text that isn't code. Go ahead and double click in this cell and you will see that you can edit it. \n",
    "\n",
    "**Type something here:** ....\n"
   ]
  },
  {
   "cell_type": "markdown",
   "metadata": {},
   "source": [
    "**Activity 2:** Click on the code cell below and run the code:"
   ]
  },
  {
   "cell_type": "code",
   "execution_count": null,
   "metadata": {},
   "outputs": [],
   "source": [
    "#This cell is a code cell. It is where we can type code that can be executed.\n",
    "#The hashtag at the start of this line makes it so that this text is a comment not code. \n",
    "\n",
    "print(\"Hello, World! \\N{EARTH GLOBE ASIA-AUSTRALIA}!\")"
   ]
  },
  {
   "cell_type": "markdown",
   "metadata": {},
   "source": [
    "And this one:"
   ]
  },
  {
   "cell_type": "code",
   "execution_count": null,
   "metadata": {
    "read_only": true
   },
   "outputs": [],
   "source": [
    "# This coding cell imports some python libraries that we will be using throughout this notebook\n",
    "# Don't worry about what they are, just run this cell before running any other cells below this one\n",
    "from datascience import *\n",
    "import numpy as np\n",
    "import otter\n",
    "grader = otter.Notebook(\"mod01_Sicily.ipynb\")\n",
    "\n",
    "%matplotlib inline\n",
    "import matplotlib.pyplot as plt\n",
    "plt.style.use('fivethirtyeight')\n",
    "\n",
    "import folium\n",
    "def createMap(locationInit, zoomInit, marker1Location, marker1Name, marker2Location, marker2Name):\n",
    "    myMap = folium.Map(location=locationInit, tiles=\"OpenStreetMap\", zoom_start= zoomInit)\n",
    "    folium.Marker(marker1Location, popup = marker1Name).add_to(myMap)\n",
    "    folium.Marker(location = marker2Location, popup = marker2Name).add_to(myMap)\n",
    "    return myMap\n",
    "\n",
    "from IPython.display import YouTubeVideo"
   ]
  },
  {
   "cell_type": "markdown",
   "metadata": {},
   "source": [
    "# 2. Comparing 2 locations and their history\n",
    "Before you continue, make sure to review the following 2 lectures:\n",
    "- Regional economic growth lecture! \n",
    "- Uneven economic development lecture\n",
    "\n",
    "# 2.1 Maps\n",
    "In this section we will start with a map. We will look at 2 countries locations Italy (focusing on Sicily) and the Democratic Republic of Congo. We will compare the difference in their geographies in terms of latitude, longitude and climate, and discuss how this affected their economic development. \n",
    "\n",
    "Both locations have similarities and differences when locating them on the map:\n",
    "\n",
    "**Question 2.1** Let's first have a look at their locations on the map! In the coding cell below:\n",
    "- Set **sicily_lat** and **sicily_long** equal to the latitude and longitude of Palermo (the capital city of Sicily, Southern Italy))\n",
    "- Set **congo_lat** and **congo_long** equal to the latitude and longitude of Kinshasa (the capital of D.R., Congo)\n",
    "\n",
    "HINT: You can use [Google Maps](https://www.google.com/maps) and if you have a PC, right click on a location to get the coordinates (latitude and longitude), if you have a Mac, single click with 2 fingers.\n"
   ]
  },
  {
   "cell_type": "code",
   "execution_count": null,
   "metadata": {
    "tags": []
   },
   "outputs": [],
   "source": [
    "#replace the ... with the correct latitudes and longitudes\n",
    "sicily_lat = ...\n",
    "sicily_long = ...\n",
    "congo_lat = ...\n",
    "congo_long = ...\n",
    "createMap([33,0], 2, [sicily_lat, sicily_long], 'Palermo, Sicily', [congo_lat, congo_long], 'Kinshasa, Democratic Republic, Congo')"
   ]
  },
  {
   "cell_type": "markdown",
   "metadata": {
    "deletable": false,
    "editable": false
   },
   "source": [
    "Now you can check your work by running the grader check below. If it passes, great job, go on to the next section! \n",
    "\n",
    "If it fails, don't worry, you just need to go back and try again."
   ]
  },
  {
   "cell_type": "code",
   "execution_count": null,
   "metadata": {
    "deletable": false,
    "editable": false
   },
   "outputs": [],
   "source": [
    "grader.check(\"q21\")"
   ]
  },
  {
   "cell_type": "markdown",
   "metadata": {},
   "source": [
    "**Question 2.2** Look at the map above. Which of the following statements is correct? \n",
    "\n",
    "Palermo (Sicily) and Kinshasa (D.R., Congo) have...\n",
    "1. similar latitudes and similar longitudes.\n",
    "2. similar latitudes, but different longitudes.\n",
    "3. different latitudes, but similar longitudes.\n",
    "4. different latitudes and different longitudes.\n",
    "\n",
    "Answer in the code cell below, by setting the name (variable) `correct` equal to 1, 2, 3 or 4."
   ]
  },
  {
   "cell_type": "code",
   "execution_count": null,
   "metadata": {
    "tags": []
   },
   "outputs": [],
   "source": [
    "correct = ..."
   ]
  },
  {
   "cell_type": "code",
   "execution_count": null,
   "metadata": {
    "deletable": false,
    "editable": false
   },
   "outputs": [],
   "source": [
    "grader.check(\"q22\")"
   ]
  },
  {
   "cell_type": "markdown",
   "metadata": {},
   "source": [
    "Run the code cell below to watch the video \"What caused the Rwandan Genocide?\" and answer question 2.3."
   ]
  },
  {
   "cell_type": "code",
   "execution_count": null,
   "metadata": {},
   "outputs": [],
   "source": [
    "# The original URL is: \"What caused the Rwandan Genocide\"\n",
    "# https://youtu.be/MF7EbUGlaOU\n",
    "\n",
    "YouTubeVideo(\"MF7EbUGlaOU\")"
   ]
  },
  {
   "cell_type": "markdown",
   "metadata": {},
   "source": [
    "**Question 2.3:** What strongly impacted the Rwandan Genocide?\n",
    "1. The legacy of colonialism \n",
    "2. Disagreements on farming techniques\n",
    "3. An arms race with the DR Congo\n",
    "4. all of these are correct\n",
    "\n",
    "Answer in the code cell below, by setting the name (variable) `cause` equal to 1, 2, 3 or 4."
   ]
  },
  {
   "cell_type": "code",
   "execution_count": null,
   "metadata": {
    "tags": []
   },
   "outputs": [],
   "source": [
    "cause = ..."
   ]
  },
  {
   "cell_type": "code",
   "execution_count": null,
   "metadata": {
    "deletable": false,
    "editable": false
   },
   "outputs": [],
   "source": [
    "grader.check(\"q23\")"
   ]
  },
  {
   "cell_type": "markdown",
   "metadata": {},
   "source": [
    "# 2.2 Uneven Regional Economic Growth - Italy versus D.R. Congo\n",
    "\n",
    "Let's explore data and compare Italy and the Democratic Republic of Congo by looking at merchandise export over the years. Do we see the same growth? Are their any data that stands out? Why?\n",
    "\n",
    "## 2.2.1 History's Deadliest King\n",
    "\n",
    "Before we look at data. Let's run the code cell below to watch a TEDEd talk on Belgian King Leopold. This video will help with the next question 2.4."
   ]
  },
  {
   "cell_type": "code",
   "execution_count": null,
   "metadata": {},
   "outputs": [],
   "source": [
    "# The original URL is: \"Deadliest King\"\n",
    "# https://youtu.be/MU4vua2kNQY\n",
    "\n",
    "YouTubeVideo(\"MU4vua2kNQY\")"
   ]
  },
  {
   "cell_type": "markdown",
   "metadata": {},
   "source": [
    "**Question 2.4:** After convincing Americans and Europeans he would continue _________, King Leopold was granted the Congo as his personal property:\n",
    "1. the slave trade\n",
    "2. free trade\n",
    "3. rubber harvesting\n",
    "4. searching for the source of the Nile\n",
    "\n",
    "Answer in the code cell below, by setting the name (variable) `result` equal to 1, 2, 3 or 4."
   ]
  },
  {
   "cell_type": "code",
   "execution_count": null,
   "metadata": {
    "tags": []
   },
   "outputs": [],
   "source": [
    "result = ..."
   ]
  },
  {
   "cell_type": "code",
   "execution_count": null,
   "metadata": {
    "deletable": false,
    "editable": false
   },
   "outputs": [],
   "source": [
    "grader.check(\"q24\")"
   ]
  },
  {
   "cell_type": "markdown",
   "metadata": {},
   "source": [
    "Now let's get started with some **data exploration**!\n",
    "## 2.2.2 Merchandise Export over the years\n",
    "We are ready to import and visualize data. What can we learn about economies of Italy and D.R.Congo, by looking at merchandise export over the years?\n",
    "The dataset used in this section is from the World Trade Organization (WTO): https://stats.wto.org/.\n",
    "\n",
    "**STEP 1:** Gather the data from WTO, and upload it in our notebook as a table. \n",
    "\n",
    "Just run the cell below to see tabular data for both locations."
   ]
  },
  {
   "cell_type": "code",
   "execution_count": null,
   "metadata": {},
   "outputs": [],
   "source": [
    "# Data comparing Italy versus Congo merchandise export between 1948 and 2024: Exports in million US $ \n",
    "exports_data = Table.read_table('WtoData_20250528_export_Italy_Congo.csv')\n",
    "exports_data"
   ]
  },
  {
   "cell_type": "markdown",
   "metadata": {},
   "source": [
    "Take a moment to look at the table above, maybe we can see that there is growth, but it is very difficult to compare the growth trends by just looking at a table. The next step will help!\n",
    "\n",
    "**STEP 2**: Visualize the table data by plotting the numbers for both locations. \n",
    "The cell below includes some helper code that will make plotting this information easier. Just run the cell and go to the next one."
   ]
  },
  {
   "cell_type": "code",
   "execution_count": null,
   "metadata": {},
   "outputs": [],
   "source": [
    "# This is a helper function used in the cells below, just run it (do not change anything!)\n",
    "def plotExportGrowth(countryName, myTable, rowStart, rowEnd):\n",
    "      ''' This function plots the export in Merchandise Export for a specific country '''\n",
    "      myTable.plot('Year', countryName)\n",
    "      plt.title('Merchandise Export (millions of $)\\n'+ countryName)\n",
    "      export_start = exports_data.column(countryName).item(rowStart)\n",
    "      export_end = exports_data.column(countryName).item(rowEnd)\n",
    "      growth = round(export_end/export_start, 2)\n",
    "      print(countryName,'increased from '+ str(export_start) + ' to ' + \n",
    "            str(export_end)+' million $, growth factor = ' + str(growth))"
   ]
  },
  {
   "cell_type": "markdown",
   "metadata": {},
   "source": [
    "The next coding cell will use the helper code above to calculate a growth factor and plot the data for Italy and Congo. Run the coding cell below, observe and note the differences between the 2 countries. The plots should help you answer question 2.5."
   ]
  },
  {
   "cell_type": "code",
   "execution_count": null,
   "metadata": {},
   "outputs": [],
   "source": [
    "print('Merchandise Export, 1948 to 2024:')\n",
    "# Call the helper function to view data on Italy\n",
    "plotExportGrowth('Italy', exports_data, 0, 76)\n",
    "# Call the helper function to view data on Congo\n",
    "plotExportGrowth('Congo', exports_data, 0, 76)"
   ]
  },
  {
   "cell_type": "markdown",
   "metadata": {},
   "source": [
    "**Question 2.5:**\n",
    "What does the data show? Do Italy and D.R., Congo show differences in merchandise export growth over the years? Are there any decades/years in particular that stand out? Why could this be? \n",
    "\n",
    "Review what you learned in lecture. In a couple of sentences, share your thoughts regarding your data observations and possible reasons.\n"
   ]
  },
  {
   "cell_type": "markdown",
   "metadata": {},
   "source": [
    "_Type your answer here, replacing this text._"
   ]
  },
  {
   "cell_type": "markdown",
   "metadata": {
    "deletable": false,
    "editable": false
   },
   "source": [
    "<!-- END QUESTION -->\n",
    "\n",
    "**CONGRATULATIONS!** You just finished your first jupyter notebook assignment! \n",
    "\n",
    "We hope you enjoyed a first glimpse at the power of data and computer programming, tools that can help us understand how geography affects humans around the world!\n",
    "\n",
    "Be sure to...\n",
    "\n",
    "- run all of the tests and verify that they all pass, \n",
    "- check your answers for the open response questions,\n",
    "- choose **Download as PDF** from the **File** menu,\n",
    "- submit the .pdf file on **canvas**."
   ]
  },
  {
   "cell_type": "markdown",
   "metadata": {},
   "source": []
  }
 ],
 "metadata": {
  "anaconda-cloud": {},
  "kernelspec": {
   "display_name": "base",
   "language": "python",
   "name": "python3"
  },
  "language_info": {
   "codemirror_mode": {
    "name": "ipython",
    "version": 3
   },
   "file_extension": ".py",
   "mimetype": "text/x-python",
   "name": "python",
   "nbconvert_exporter": "python",
   "pygments_lexer": "ipython3",
   "version": "3.12.4"
  },
  "otter": {
   "OK_FORMAT": true,
   "tests": {
    "q21": {
     "name": "q21",
     "points": null,
     "suites": [
      {
       "cases": [
        {
         "code": ">>> 38 <= sicily_lat <= 39\nTrue",
         "hidden": false,
         "locked": false
        },
        {
         "code": ">>> 13 <= sicily_long <= 14\nTrue",
         "hidden": false,
         "locked": false
        },
        {
         "code": ">>> -5 <= congo_lat <= -4\nTrue",
         "hidden": false,
         "locked": false
        },
        {
         "code": ">>> 15 <= congo_long <= 16\nTrue",
         "hidden": false,
         "locked": false
        }
       ],
       "scored": true,
       "setup": "",
       "teardown": "",
       "type": "doctest"
      }
     ]
    },
    "q22": {
     "name": "q22",
     "points": null,
     "suites": [
      {
       "cases": [
        {
         "code": ">>> correct == 3\nTrue",
         "hidden": false,
         "locked": false
        }
       ],
       "scored": true,
       "setup": "",
       "teardown": "",
       "type": "doctest"
      }
     ]
    },
    "q23": {
     "name": "q23",
     "points": null,
     "suites": [
      {
       "cases": [
        {
         "code": ">>> cause == 1\nTrue",
         "hidden": false,
         "locked": false
        }
       ],
       "scored": true,
       "setup": "",
       "teardown": "",
       "type": "doctest"
      }
     ]
    },
    "q24": {
     "name": "q24",
     "points": null,
     "suites": [
      {
       "cases": [
        {
         "code": ">>> result == 3\nTrue",
         "hidden": false,
         "locked": false
        }
       ],
       "scored": true,
       "setup": "",
       "teardown": "",
       "type": "doctest"
      }
     ]
    }
   }
  }
 },
 "nbformat": 4,
 "nbformat_minor": 2
}
